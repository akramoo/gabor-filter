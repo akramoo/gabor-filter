{
 "cells": [
  {
   "cell_type": "code",
   "execution_count": null,
   "metadata": {},
   "outputs": [],
   "source": [
    "from PIL import Image\n",
    "from scipy.fft import dct\n",
    "\n",
    "def compute_dct(image):\n",
    "    img = Image.open(image)  \n",
    "    numpydata = np.asarray(img)\n",
    "    return dct(numpydata)"
   ]
  },
  {
   "cell_type": "code",
   "execution_count": null,
   "metadata": {},
   "outputs": [],
   "source": [
    "image = \"./Datesets/NORMAL/NORMAL_0.jpg\"\n",
    "\n",
    "filter = compute_dct(image)\n",
    "\n",
    "print(filter)"
   ]
  }
 ],
 "metadata": {
  "language_info": {
   "name": "python"
  },
  "orig_nbformat": 4
 },
 "nbformat": 4,
 "nbformat_minor": 2
}
