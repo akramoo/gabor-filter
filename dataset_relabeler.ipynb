{
 "cells": [
  {
   "cell_type": "code",
   "execution_count": 3,
   "id": "5da123d4-66b9-4eae-8dcd-78bbe2f7ce3e",
   "metadata": {},
   "outputs": [
    {
     "name": "stdout",
     "output_type": "stream",
     "text": [
      "Les images dans le dossier 'NORMAL' ont été renommées.\n",
      "Les images dans le dossier 'PNEUMONIA' ont été renommées.\n"
     ]
    }
   ],
   "source": [
    "import os\n",
    "\n",
    "# Définir le chemin vers le dossier Datasets\n",
    "base_dir = os.path.expanduser(\"~/Desktop/Datasets\")\n",
    "\n",
    "# Définir les noms des sous-dossiers\n",
    "sub_dirs = [\"NORMAL\", \"PNEUMONIA\"]\n",
    "\n",
    "# Initialiser un compteur global\n",
    "global_count = 0\n",
    "\n",
    "# Parcourir chaque sous-dossier\n",
    "for sub_dir in sub_dirs:\n",
    "    folder_path = os.path.join(base_dir, sub_dir)\n",
    "    \n",
    "    # Vérifier si le sous-dossier existe\n",
    "    if os.path.exists(folder_path):\n",
    "        # Récupérer toutes les images dans le sous-dossier\n",
    "        for filename in os.listdir(folder_path):\n",
    "            # Vérifier si le fichier est une image (ajuster selon les extensions)\n",
    "            if filename.endswith(('.png', '.jpg', '.jpeg')):\n",
    "                # Construire le nouveau nom d'image avec le compteur global\n",
    "                new_name = f\"{sub_dir}_{global_count}.jpg\"  # ou .png selon tes images\n",
    "                \n",
    "                # Chemins complet pour l'ancien et le nouveau nom\n",
    "                old_path = os.path.join(folder_path, filename)\n",
    "                new_path = os.path.join(folder_path, new_name)\n",
    "                \n",
    "                # Renommer l'image\n",
    "                os.rename(old_path, new_path)\n",
    "                \n",
    "                # Incrémenter le compteur global pour le nom suivant\n",
    "                global_count += 1\n",
    "                \n",
    "        print(f\"Les images dans le dossier '{sub_dir}' ont été renommées.\")\n",
    "    else:\n",
    "        print(f\"Le dossier '{sub_dir}' n'existe pas.\")"
   ]
  },
  {
   "cell_type": "code",
   "execution_count": null,
   "id": "e26c9e18-85f9-4498-a548-a9286b02cde7",
   "metadata": {},
   "outputs": [],
   "source": []
  }
 ],
 "metadata": {
  "kernelspec": {
   "display_name": "Python 3 (ipykernel)",
   "language": "python",
   "name": "python3"
  },
  "language_info": {
   "codemirror_mode": {
    "name": "ipython",
    "version": 3
   },
   "file_extension": ".py",
   "mimetype": "text/x-python",
   "name": "python",
   "nbconvert_exporter": "python",
   "pygments_lexer": "ipython3",
   "version": "3.12.6"
  }
 },
 "nbformat": 4,
 "nbformat_minor": 5
}
