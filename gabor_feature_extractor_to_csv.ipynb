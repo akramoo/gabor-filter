{
 "cells": [
  {
   "cell_type": "code",
   "execution_count": 3,
   "id": "b8087d37-90b6-419d-9496-0d4cc79a0bd9",
   "metadata": {},
   "outputs": [
    {
     "name": "stdout",
     "output_type": "stream",
     "text": [
      "Les caractéristiques des images ont été enregistrées dans '/Users/chawkibhd/Desktop/Datasets_features.csv'.\n"
     ]
    }
   ],
   "source": [
    "import os\n",
    "import csv\n",
    "import numpy as np\n",
    "from scipy import ndimage as ndi\n",
    "from skimage import io, img_as_float\n",
    "from skimage.filters import gabor_kernel\n",
    "\n",
    "# Définir le chemin vers le dossier Datasets\n",
    "base_dir = os.path.expanduser(\"~/Desktop/Datasets\")\n",
    "\n",
    "# Définir les noms des sous-dossiers\n",
    "sub_dirs = [\"NORMAL\", \"PNEUMONIA\"]\n",
    "\n",
    "# Créer les filtres Gabor\n",
    "kernels = []\n",
    "for theta in range(4):\n",
    "    theta = theta / 4.0 * np.pi\n",
    "    for sigma in (1, 3):\n",
    "        for frequency in (0.05, 0.25):\n",
    "            kernel = np.real(gabor_kernel(frequency, theta=theta, sigma_x=sigma, sigma_y=sigma))\n",
    "            kernels.append(kernel)\n",
    "\n",
    "# Fonction pour calculer les caractéristiques d'une image\n",
    "def compute_feats(image, kernels):\n",
    "    feats = np.zeros((len(kernels), 2), dtype=np.double)\n",
    "    for k, kernel in enumerate(kernels):\n",
    "        filtered = ndi.convolve(image, kernel, mode='wrap')\n",
    "        feats[k, 0] = filtered.mean()\n",
    "        feats[k, 1] = filtered.var()\n",
    "    return feats\n",
    "\n",
    "# Chemin du fichier CSV\n",
    "csv_file_path = os.path.expanduser(\"~/Desktop/Datasets_features.csv\")\n",
    "\n",
    "# Créer le fichier CSV et ajouter les en-têtes\n",
    "with open(csv_file_path, mode='w', newline='') as file:\n",
    "    writer = csv.writer(file)\n",
    "    writer.writerow([\"Numéro d'image\", \"Caractéristique\", \"Étiquette\"])\n",
    "\n",
    "    # Parcourir chaque sous-dossier pour traiter chaque image\n",
    "    for sub_dir in sub_dirs:\n",
    "        folder_path = os.path.join(base_dir, sub_dir)\n",
    "        \n",
    "        if os.path.exists(folder_path):\n",
    "            # Parcourir toutes les images dans le dossier\n",
    "            for filename in os.listdir(folder_path):\n",
    "                if filename.endswith(('.png', '.jpg', '.jpeg')):\n",
    "                    # Charger l'image en niveaux de gris\n",
    "                    image_path = os.path.join(folder_path, filename)\n",
    "                    image = img_as_float(io.imread(image_path, as_gray=True))\n",
    "                    \n",
    "                    # Calculer le vecteur de caractéristiques\n",
    "                    feats = compute_feats(image, kernels)\n",
    "                    \n",
    "                    # Extraire le numéro de l'image et le label\n",
    "                    numero_image = filename.split('_')[-1].split('.')[0]  # ex: \"48\" de \"PNEUMONIA_48.jpg\"\n",
    "                    label = filename.split('_')[0]  # ex: \"PNEUMONIA\"\n",
    "                    \n",
    "                    # Convertir les caractéristiques en chaîne de caractères\n",
    "                    feats_str = str(feats.tolist())\n",
    "                    \n",
    "                    # Écrire la ligne dans le fichier CSV\n",
    "                    writer.writerow([numero_image, feats_str, label])\n",
    "\n",
    "print(f\"Les caractéristiques des images ont été enregistrées dans '{csv_file_path}'.\")"
   ]
  },
  {
   "cell_type": "code",
   "execution_count": null,
   "id": "70b24804-7ff2-4439-9a29-e2ffd522aa88",
   "metadata": {},
   "outputs": [],
   "source": []
  }
 ],
 "metadata": {
  "kernelspec": {
   "display_name": "Python 3 (ipykernel)",
   "language": "python",
   "name": "python3"
  },
  "language_info": {
   "codemirror_mode": {
    "name": "ipython",
    "version": 3
   },
   "file_extension": ".py",
   "mimetype": "text/x-python",
   "name": "python",
   "nbconvert_exporter": "python",
   "pygments_lexer": "ipython3",
   "version": "3.12.6"
  }
 },
 "nbformat": 4,
 "nbformat_minor": 5
}
